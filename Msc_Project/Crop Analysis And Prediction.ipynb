{
 "cells": [
  {
   "cell_type": "code",
   "execution_count": 1,
   "id": "5f44a8ad",
   "metadata": {
    "_cell_guid": "b1076dfc-b9ad-4769-8c92-a6c4dae69d19",
    "_uuid": "8f2839f25d086af736a60e9eeb907d3b93b6e0e5",
    "execution": {
     "iopub.execute_input": "2022-12-03T03:37:51.855089Z",
     "iopub.status.busy": "2022-12-03T03:37:51.854463Z",
     "iopub.status.idle": "2022-12-03T03:37:53.170761Z",
     "shell.execute_reply": "2022-12-03T03:37:53.169452Z"
    },
    "papermill": {
     "duration": 1.341682,
     "end_time": "2022-12-03T03:37:53.173946",
     "exception": false,
     "start_time": "2022-12-03T03:37:51.832264",
     "status": "completed"
    },
    "tags": []
   },
   "outputs": [],
   "source": [
    "\n",
    "import numpy as np # linear algebra\n",
    "import pandas as pd # data processing, \n",
    "import matplotlib.pyplot as plt\n",
    "%matplotlib inline\n",
    "import seaborn as sns\n",
    "from IPython import get_ipython\n",
    "import warnings\n",
    "warnings.filterwarnings(\"ignore\")"
   ]
  },
  {
   "cell_type": "markdown",
   "id": "922085c6",
   "metadata": {},
   "source": [
    "# Upload the data check first 5 and last 5 record of given data"
   ]
  },
  {
   "cell_type": "code",
   "execution_count": 2,
   "id": "8590a2ac",
   "metadata": {
    "execution": {
     "iopub.execute_input": "2022-12-03T03:37:53.214697Z",
     "iopub.status.busy": "2022-12-03T03:37:53.214167Z",
     "iopub.status.idle": "2022-12-03T03:37:53.263211Z",
     "shell.execute_reply": "2022-12-03T03:37:53.261837Z"
    },
    "papermill": {
     "duration": 0.072878,
     "end_time": "2022-12-03T03:37:53.266044",
     "exception": false,
     "start_time": "2022-12-03T03:37:53.193166",
     "status": "completed"
    },
    "tags": []
   },
   "outputs": [
    {
     "data": {
      "text/html": [
       "<div>\n",
       "<style scoped>\n",
       "    .dataframe tbody tr th:only-of-type {\n",
       "        vertical-align: middle;\n",
       "    }\n",
       "\n",
       "    .dataframe tbody tr th {\n",
       "        vertical-align: top;\n",
       "    }\n",
       "\n",
       "    .dataframe thead th {\n",
       "        text-align: right;\n",
       "    }\n",
       "</style>\n",
       "<table border=\"1\" class=\"dataframe\">\n",
       "  <thead>\n",
       "    <tr style=\"text-align: right;\">\n",
       "      <th></th>\n",
       "      <th>N</th>\n",
       "      <th>P</th>\n",
       "      <th>K</th>\n",
       "      <th>temperature</th>\n",
       "      <th>humidity</th>\n",
       "      <th>ph</th>\n",
       "      <th>rainfall</th>\n",
       "      <th>label</th>\n",
       "    </tr>\n",
       "  </thead>\n",
       "  <tbody>\n",
       "    <tr>\n",
       "      <th>0</th>\n",
       "      <td>90</td>\n",
       "      <td>42</td>\n",
       "      <td>43</td>\n",
       "      <td>20.879744</td>\n",
       "      <td>82.002744</td>\n",
       "      <td>6.502985</td>\n",
       "      <td>202.935536</td>\n",
       "      <td>rice</td>\n",
       "    </tr>\n",
       "    <tr>\n",
       "      <th>1</th>\n",
       "      <td>85</td>\n",
       "      <td>58</td>\n",
       "      <td>41</td>\n",
       "      <td>21.770462</td>\n",
       "      <td>80.319644</td>\n",
       "      <td>7.038096</td>\n",
       "      <td>226.655537</td>\n",
       "      <td>rice</td>\n",
       "    </tr>\n",
       "    <tr>\n",
       "      <th>2</th>\n",
       "      <td>60</td>\n",
       "      <td>55</td>\n",
       "      <td>44</td>\n",
       "      <td>23.004459</td>\n",
       "      <td>82.320763</td>\n",
       "      <td>7.840207</td>\n",
       "      <td>263.964248</td>\n",
       "      <td>rice</td>\n",
       "    </tr>\n",
       "    <tr>\n",
       "      <th>3</th>\n",
       "      <td>74</td>\n",
       "      <td>35</td>\n",
       "      <td>40</td>\n",
       "      <td>26.491096</td>\n",
       "      <td>80.158363</td>\n",
       "      <td>6.980401</td>\n",
       "      <td>242.864034</td>\n",
       "      <td>rice</td>\n",
       "    </tr>\n",
       "    <tr>\n",
       "      <th>4</th>\n",
       "      <td>78</td>\n",
       "      <td>42</td>\n",
       "      <td>42</td>\n",
       "      <td>20.130175</td>\n",
       "      <td>81.604873</td>\n",
       "      <td>7.628473</td>\n",
       "      <td>262.717340</td>\n",
       "      <td>rice</td>\n",
       "    </tr>\n",
       "  </tbody>\n",
       "</table>\n",
       "</div>"
      ],
      "text/plain": [
       "    N   P   K  temperature   humidity        ph    rainfall label\n",
       "0  90  42  43    20.879744  82.002744  6.502985  202.935536  rice\n",
       "1  85  58  41    21.770462  80.319644  7.038096  226.655537  rice\n",
       "2  60  55  44    23.004459  82.320763  7.840207  263.964248  rice\n",
       "3  74  35  40    26.491096  80.158363  6.980401  242.864034  rice\n",
       "4  78  42  42    20.130175  81.604873  7.628473  262.717340  rice"
      ]
     },
     "execution_count": 2,
     "metadata": {},
     "output_type": "execute_result"
    }
   ],
   "source": [
    "df=pd.read_csv(\"Crop.csv\")\n",
    "df.head()"
   ]
  },
  {
   "cell_type": "code",
   "execution_count": 3,
   "id": "d349ddbe",
   "metadata": {
    "execution": {
     "iopub.execute_input": "2022-12-03T03:37:53.306962Z",
     "iopub.status.busy": "2022-12-03T03:37:53.306122Z",
     "iopub.status.idle": "2022-12-03T03:37:53.321658Z",
     "shell.execute_reply": "2022-12-03T03:37:53.320376Z"
    },
    "papermill": {
     "duration": 0.038908,
     "end_time": "2022-12-03T03:37:53.323962",
     "exception": false,
     "start_time": "2022-12-03T03:37:53.285054",
     "status": "completed"
    },
    "tags": []
   },
   "outputs": [
    {
     "data": {
      "text/html": [
       "<div>\n",
       "<style scoped>\n",
       "    .dataframe tbody tr th:only-of-type {\n",
       "        vertical-align: middle;\n",
       "    }\n",
       "\n",
       "    .dataframe tbody tr th {\n",
       "        vertical-align: top;\n",
       "    }\n",
       "\n",
       "    .dataframe thead th {\n",
       "        text-align: right;\n",
       "    }\n",
       "</style>\n",
       "<table border=\"1\" class=\"dataframe\">\n",
       "  <thead>\n",
       "    <tr style=\"text-align: right;\">\n",
       "      <th></th>\n",
       "      <th>N</th>\n",
       "      <th>P</th>\n",
       "      <th>K</th>\n",
       "      <th>temperature</th>\n",
       "      <th>humidity</th>\n",
       "      <th>ph</th>\n",
       "      <th>rainfall</th>\n",
       "      <th>label</th>\n",
       "    </tr>\n",
       "  </thead>\n",
       "  <tbody>\n",
       "    <tr>\n",
       "      <th>2195</th>\n",
       "      <td>107</td>\n",
       "      <td>34</td>\n",
       "      <td>32</td>\n",
       "      <td>26.774637</td>\n",
       "      <td>66.413269</td>\n",
       "      <td>6.780064</td>\n",
       "      <td>177.774507</td>\n",
       "      <td>coffee</td>\n",
       "    </tr>\n",
       "    <tr>\n",
       "      <th>2196</th>\n",
       "      <td>99</td>\n",
       "      <td>15</td>\n",
       "      <td>27</td>\n",
       "      <td>27.417112</td>\n",
       "      <td>56.636362</td>\n",
       "      <td>6.086922</td>\n",
       "      <td>127.924610</td>\n",
       "      <td>coffee</td>\n",
       "    </tr>\n",
       "    <tr>\n",
       "      <th>2197</th>\n",
       "      <td>118</td>\n",
       "      <td>33</td>\n",
       "      <td>30</td>\n",
       "      <td>24.131797</td>\n",
       "      <td>67.225123</td>\n",
       "      <td>6.362608</td>\n",
       "      <td>173.322839</td>\n",
       "      <td>coffee</td>\n",
       "    </tr>\n",
       "    <tr>\n",
       "      <th>2198</th>\n",
       "      <td>117</td>\n",
       "      <td>32</td>\n",
       "      <td>34</td>\n",
       "      <td>26.272418</td>\n",
       "      <td>52.127394</td>\n",
       "      <td>6.758793</td>\n",
       "      <td>127.175293</td>\n",
       "      <td>coffee</td>\n",
       "    </tr>\n",
       "    <tr>\n",
       "      <th>2199</th>\n",
       "      <td>104</td>\n",
       "      <td>18</td>\n",
       "      <td>30</td>\n",
       "      <td>23.603016</td>\n",
       "      <td>60.396475</td>\n",
       "      <td>6.779833</td>\n",
       "      <td>140.937041</td>\n",
       "      <td>coffee</td>\n",
       "    </tr>\n",
       "  </tbody>\n",
       "</table>\n",
       "</div>"
      ],
      "text/plain": [
       "        N   P   K  temperature   humidity        ph    rainfall   label\n",
       "2195  107  34  32    26.774637  66.413269  6.780064  177.774507  coffee\n",
       "2196   99  15  27    27.417112  56.636362  6.086922  127.924610  coffee\n",
       "2197  118  33  30    24.131797  67.225123  6.362608  173.322839  coffee\n",
       "2198  117  32  34    26.272418  52.127394  6.758793  127.175293  coffee\n",
       "2199  104  18  30    23.603016  60.396475  6.779833  140.937041  coffee"
      ]
     },
     "execution_count": 3,
     "metadata": {},
     "output_type": "execute_result"
    }
   ],
   "source": [
    "df.tail()"
   ]
  },
  {
   "cell_type": "code",
   "execution_count": 4,
   "id": "35155142",
   "metadata": {},
   "outputs": [
    {
     "name": "stdout",
     "output_type": "stream",
     "text": [
      "<class 'pandas.core.frame.DataFrame'>\n",
      "RangeIndex: 2200 entries, 0 to 2199\n",
      "Data columns (total 8 columns):\n",
      " #   Column       Non-Null Count  Dtype  \n",
      "---  ------       --------------  -----  \n",
      " 0   N            2200 non-null   int64  \n",
      " 1   P            2200 non-null   int64  \n",
      " 2   K            2200 non-null   int64  \n",
      " 3   temperature  2200 non-null   float64\n",
      " 4   humidity     2200 non-null   float64\n",
      " 5   ph           2200 non-null   float64\n",
      " 6   rainfall     2200 non-null   float64\n",
      " 7   label        2200 non-null   object \n",
      "dtypes: float64(4), int64(3), object(1)\n",
      "memory usage: 137.6+ KB\n"
     ]
    }
   ],
   "source": [
    "df.info()"
   ]
  },
  {
   "cell_type": "code",
   "execution_count": 5,
   "id": "1f81bfb6",
   "metadata": {},
   "outputs": [
    {
     "data": {
      "text/html": [
       "<div>\n",
       "<style scoped>\n",
       "    .dataframe tbody tr th:only-of-type {\n",
       "        vertical-align: middle;\n",
       "    }\n",
       "\n",
       "    .dataframe tbody tr th {\n",
       "        vertical-align: top;\n",
       "    }\n",
       "\n",
       "    .dataframe thead th {\n",
       "        text-align: right;\n",
       "    }\n",
       "</style>\n",
       "<table border=\"1\" class=\"dataframe\">\n",
       "  <thead>\n",
       "    <tr style=\"text-align: right;\">\n",
       "      <th></th>\n",
       "      <th>N</th>\n",
       "      <th>P</th>\n",
       "      <th>K</th>\n",
       "      <th>temperature</th>\n",
       "      <th>humidity</th>\n",
       "      <th>ph</th>\n",
       "      <th>rainfall</th>\n",
       "    </tr>\n",
       "  </thead>\n",
       "  <tbody>\n",
       "    <tr>\n",
       "      <th>count</th>\n",
       "      <td>2200.000000</td>\n",
       "      <td>2200.000000</td>\n",
       "      <td>2200.000000</td>\n",
       "      <td>2200.000000</td>\n",
       "      <td>2200.000000</td>\n",
       "      <td>2200.000000</td>\n",
       "      <td>2200.000000</td>\n",
       "    </tr>\n",
       "    <tr>\n",
       "      <th>mean</th>\n",
       "      <td>50.551818</td>\n",
       "      <td>53.362727</td>\n",
       "      <td>48.149091</td>\n",
       "      <td>25.616244</td>\n",
       "      <td>71.481779</td>\n",
       "      <td>6.469480</td>\n",
       "      <td>103.463655</td>\n",
       "    </tr>\n",
       "    <tr>\n",
       "      <th>std</th>\n",
       "      <td>36.917334</td>\n",
       "      <td>32.985883</td>\n",
       "      <td>50.647931</td>\n",
       "      <td>5.063749</td>\n",
       "      <td>22.263812</td>\n",
       "      <td>0.773938</td>\n",
       "      <td>54.958389</td>\n",
       "    </tr>\n",
       "    <tr>\n",
       "      <th>min</th>\n",
       "      <td>0.000000</td>\n",
       "      <td>5.000000</td>\n",
       "      <td>5.000000</td>\n",
       "      <td>8.825675</td>\n",
       "      <td>14.258040</td>\n",
       "      <td>3.504752</td>\n",
       "      <td>20.211267</td>\n",
       "    </tr>\n",
       "    <tr>\n",
       "      <th>25%</th>\n",
       "      <td>21.000000</td>\n",
       "      <td>28.000000</td>\n",
       "      <td>20.000000</td>\n",
       "      <td>22.769375</td>\n",
       "      <td>60.261953</td>\n",
       "      <td>5.971693</td>\n",
       "      <td>64.551686</td>\n",
       "    </tr>\n",
       "    <tr>\n",
       "      <th>50%</th>\n",
       "      <td>37.000000</td>\n",
       "      <td>51.000000</td>\n",
       "      <td>32.000000</td>\n",
       "      <td>25.598693</td>\n",
       "      <td>80.473146</td>\n",
       "      <td>6.425045</td>\n",
       "      <td>94.867624</td>\n",
       "    </tr>\n",
       "    <tr>\n",
       "      <th>75%</th>\n",
       "      <td>84.250000</td>\n",
       "      <td>68.000000</td>\n",
       "      <td>49.000000</td>\n",
       "      <td>28.561654</td>\n",
       "      <td>89.948771</td>\n",
       "      <td>6.923643</td>\n",
       "      <td>124.267508</td>\n",
       "    </tr>\n",
       "    <tr>\n",
       "      <th>max</th>\n",
       "      <td>140.000000</td>\n",
       "      <td>145.000000</td>\n",
       "      <td>205.000000</td>\n",
       "      <td>43.675493</td>\n",
       "      <td>99.981876</td>\n",
       "      <td>9.935091</td>\n",
       "      <td>298.560117</td>\n",
       "    </tr>\n",
       "  </tbody>\n",
       "</table>\n",
       "</div>"
      ],
      "text/plain": [
       "                 N            P            K  temperature     humidity  \\\n",
       "count  2200.000000  2200.000000  2200.000000  2200.000000  2200.000000   \n",
       "mean     50.551818    53.362727    48.149091    25.616244    71.481779   \n",
       "std      36.917334    32.985883    50.647931     5.063749    22.263812   \n",
       "min       0.000000     5.000000     5.000000     8.825675    14.258040   \n",
       "25%      21.000000    28.000000    20.000000    22.769375    60.261953   \n",
       "50%      37.000000    51.000000    32.000000    25.598693    80.473146   \n",
       "75%      84.250000    68.000000    49.000000    28.561654    89.948771   \n",
       "max     140.000000   145.000000   205.000000    43.675493    99.981876   \n",
       "\n",
       "                ph     rainfall  \n",
       "count  2200.000000  2200.000000  \n",
       "mean      6.469480   103.463655  \n",
       "std       0.773938    54.958389  \n",
       "min       3.504752    20.211267  \n",
       "25%       5.971693    64.551686  \n",
       "50%       6.425045    94.867624  \n",
       "75%       6.923643   124.267508  \n",
       "max       9.935091   298.560117  "
      ]
     },
     "execution_count": 5,
     "metadata": {},
     "output_type": "execute_result"
    }
   ],
   "source": [
    "df.describe()"
   ]
  },
  {
   "cell_type": "markdown",
   "id": "1efaaded",
   "metadata": {
    "execution": {
     "iopub.execute_input": "2022-12-03T03:37:53.364881Z",
     "iopub.status.busy": "2022-12-03T03:37:53.364101Z",
     "iopub.status.idle": "2022-12-03T03:37:53.384163Z",
     "shell.execute_reply": "2022-12-03T03:37:53.382926Z"
    },
    "papermill": {
     "duration": 0.04365,
     "end_time": "2022-12-03T03:37:53.386873",
     "exception": false,
     "start_time": "2022-12-03T03:37:53.343223",
     "status": "completed"
    },
    "tags": []
   },
   "source": [
    "# Size of the data"
   ]
  },
  {
   "cell_type": "code",
   "execution_count": 6,
   "id": "541ff648",
   "metadata": {
    "execution": {
     "iopub.execute_input": "2022-12-03T03:37:53.431036Z",
     "iopub.status.busy": "2022-12-03T03:37:53.430247Z",
     "iopub.status.idle": "2022-12-03T03:37:53.438154Z",
     "shell.execute_reply": "2022-12-03T03:37:53.436909Z"
    },
    "papermill": {
     "duration": 0.033165,
     "end_time": "2022-12-03T03:37:53.440530",
     "exception": false,
     "start_time": "2022-12-03T03:37:53.407365",
     "status": "completed"
    },
    "tags": []
   },
   "outputs": [
    {
     "data": {
      "text/plain": [
       "(2200, 8)"
      ]
     },
     "execution_count": 6,
     "metadata": {},
     "output_type": "execute_result"
    }
   ],
   "source": [
    "df.shape"
   ]
  },
  {
   "cell_type": "markdown",
   "id": "f15c1ce5",
   "metadata": {
    "execution": {
     "iopub.execute_input": "2022-12-03T03:37:53.482787Z",
     "iopub.status.busy": "2022-12-03T03:37:53.482002Z",
     "iopub.status.idle": "2022-12-03T03:37:53.489835Z",
     "shell.execute_reply": "2022-12-03T03:37:53.488662Z"
    },
    "papermill": {
     "duration": 0.031538,
     "end_time": "2022-12-03T03:37:53.492186",
     "exception": false,
     "start_time": "2022-12-03T03:37:53.460648",
     "status": "completed"
    },
    "tags": []
   },
   "source": [
    "# Missing value "
   ]
  },
  {
   "cell_type": "code",
   "execution_count": 7,
   "id": "1202c049",
   "metadata": {
    "execution": {
     "iopub.execute_input": "2022-12-03T03:37:53.534276Z",
     "iopub.status.busy": "2022-12-03T03:37:53.533747Z",
     "iopub.status.idle": "2022-12-03T03:37:53.545485Z",
     "shell.execute_reply": "2022-12-03T03:37:53.544123Z"
    },
    "papermill": {
     "duration": 0.036293,
     "end_time": "2022-12-03T03:37:53.548066",
     "exception": false,
     "start_time": "2022-12-03T03:37:53.511773",
     "status": "completed"
    },
    "tags": []
   },
   "outputs": [
    {
     "name": "stdout",
     "output_type": "stream",
     "text": [
      "Missing values in each column:\n",
      "N              0\n",
      "P              0\n",
      "K              0\n",
      "temperature    0\n",
      "humidity       0\n",
      "ph             0\n",
      "rainfall       0\n",
      "label          0\n",
      "dtype: int64\n"
     ]
    }
   ],
   "source": [
    "missing_values = df.isnull().sum()\n",
    "print(\"Missing values in each column:\")\n",
    "print(missing_values)"
   ]
  },
  {
   "cell_type": "markdown",
   "id": "3c2f3054",
   "metadata": {},
   "source": [
    "# There is no missing value of the given data"
   ]
  },
  {
   "cell_type": "markdown",
   "id": "325e9fda",
   "metadata": {
    "execution": {
     "iopub.execute_input": "2022-12-03T03:37:53.591540Z",
     "iopub.status.busy": "2022-12-03T03:37:53.590764Z",
     "iopub.status.idle": "2022-12-03T03:37:53.619908Z",
     "shell.execute_reply": "2022-12-03T03:37:53.618477Z"
    },
    "papermill": {
     "duration": 0.054537,
     "end_time": "2022-12-03T03:37:53.623342",
     "exception": false,
     "start_time": "2022-12-03T03:37:53.568805",
     "status": "completed"
    },
    "tags": []
   },
   "source": [
    "# Exploratory Data Analysis"
   ]
  },
  {
   "cell_type": "code",
   "execution_count": 8,
   "id": "e89decd8",
   "metadata": {
    "execution": {
     "iopub.execute_input": "2022-12-03T03:37:53.666725Z",
     "iopub.status.busy": "2022-12-03T03:37:53.666200Z",
     "iopub.status.idle": "2022-12-03T03:37:53.703716Z",
     "shell.execute_reply": "2022-12-03T03:37:53.702745Z"
    },
    "papermill": {
     "duration": 0.061693,
     "end_time": "2022-12-03T03:37:53.706186",
     "exception": false,
     "start_time": "2022-12-03T03:37:53.644493",
     "status": "completed"
    },
    "tags": []
   },
   "outputs": [
    {
     "data": {
      "image/png": "[encoded data removed]",
      "text/plain": [
       "<Figure size 1500x600 with 1 Axes>"
      ]
     },
     "metadata": {},
     "output_type": "display_data"
    }
   ],
   "source": [
    "plt.figure(figsize=(15,6))\n",
    "sns.barplot(y = 'N', x = 'label', data=df, palette = 'hls')\n",
    "plt.xticks(rotation = 90)\n",
    "plt.show()"
   ]
  },
  {
   "cell_type": "markdown",
   "id": "75a182d1",
   "metadata": {
    "execution": {
     "iopub.execute_input": "2022-12-03T03:37:53.749536Z",
     "iopub.status.busy": "2022-12-03T03:37:53.748352Z",
     "iopub.status.idle": "2022-12-03T03:37:53.764527Z",
     "shell.execute_reply": "2022-12-03T03:37:53.763314Z"
    },
    "papermill": {
     "duration": 0.040071,
     "end_time": "2022-12-03T03:37:53.767064",
     "exception": false,
     "start_time": "2022-12-03T03:37:53.726993",
     "status": "completed"
    },
    "tags": []
   },
   "source": [
    "# We observed that Cotton required High Nitrogen other than crops"
   ]
  },
  {
   "cell_type": "code",
   "execution_count": 9,
   "id": "5c48975e",
   "metadata": {
    "execution": {
     "iopub.execute_input": "2022-12-03T03:37:53.810044Z",
     "iopub.status.busy": "2022-12-03T03:37:53.809580Z",
     "iopub.status.idle": "2022-12-03T03:37:53.818860Z",
     "shell.execute_reply": "2022-12-03T03:37:53.817451Z"
    },
    "papermill": {
     "duration": 0.0342,
     "end_time": "2022-12-03T03:37:53.821668",
     "exception": false,
     "start_time": "2022-12-03T03:37:53.787468",
     "status": "completed"
    },
    "tags": []
   },
   "outputs": [
    {
     "data": {
      "image/png": "[encoded data removed]",
      "text/plain": [
       "<Figure size 1500x600 with 1 Axes>"
      ]
     },
     "metadata": {},
     "output_type": "display_data"
    }
   ],
   "source": [
    "plt.figure(figsize=(15,6))\n",
    "sns.barplot(y = 'rainfall', x = 'label', data=df, palette = 'hls')\n",
    "plt.xticks(rotation = 90)\n",
    "plt.show()"
   ]
  },
  {
   "cell_type": "markdown",
   "id": "3a8c3584",
   "metadata": {
    "execution": {
     "iopub.execute_input": "2022-12-03T03:37:53.866011Z",
     "iopub.status.busy": "2022-12-03T03:37:53.865479Z",
     "iopub.status.idle": "2022-12-03T03:37:53.876251Z",
     "shell.execute_reply": "2022-12-03T03:37:53.874981Z"
    },
    "papermill": {
     "duration": 0.036537,
     "end_time": "2022-12-03T03:37:53.879227",
     "exception": false,
     "start_time": "2022-12-03T03:37:53.842690",
     "status": "completed"
    },
    "tags": []
   },
   "source": [
    "# It is observed that rice requires large volume of rainfall compared to all other crops "
   ]
  },
  {
   "cell_type": "markdown",
   "id": "55f160a8",
   "metadata": {},
   "source": [
    "# Correlation Matrix"
   ]
  },
  {
   "cell_type": "code",
   "execution_count": 10,
   "id": "9359d6d9",
   "metadata": {
    "execution": {
     "iopub.execute_input": "2022-12-03T03:37:58.885393Z",
     "iopub.status.busy": "2022-12-03T03:37:58.884858Z",
     "iopub.status.idle": "2022-12-03T03:37:58.905466Z",
     "shell.execute_reply": "2022-12-03T03:37:58.904330Z"
    },
    "papermill": {
     "duration": 0.048783,
     "end_time": "2022-12-03T03:37:58.907972",
     "exception": false,
     "start_time": "2022-12-03T03:37:58.859189",
     "status": "completed"
    },
    "tags": []
   },
   "outputs": [
    {
     "data": {
      "text/html": [
       "<div>\n",
       "<style scoped>\n",
       "    .dataframe tbody tr th:only-of-type {\n",
       "        vertical-align: middle;\n",
       "    }\n",
       "\n",
       "    .dataframe tbody tr th {\n",
       "        vertical-align: top;\n",
       "    }\n",
       "\n",
       "    .dataframe thead th {\n",
       "        text-align: right;\n",
       "    }\n",
       "</style>\n",
       "<table border=\"1\" class=\"dataframe\">\n",
       "  <thead>\n",
       "    <tr style=\"text-align: right;\">\n",
       "      <th></th>\n",
       "      <th>N</th>\n",
       "      <th>P</th>\n",
       "      <th>K</th>\n",
       "      <th>temperature</th>\n",
       "      <th>humidity</th>\n",
       "      <th>ph</th>\n",
       "      <th>rainfall</th>\n",
       "    </tr>\n",
       "  </thead>\n",
       "  <tbody>\n",
       "    <tr>\n",
       "      <th>N</th>\n",
       "      <td>1.000000</td>\n",
       "      <td>-0.231460</td>\n",
       "      <td>-0.140512</td>\n",
       "      <td>0.026504</td>\n",
       "      <td>0.190688</td>\n",
       "      <td>0.096683</td>\n",
       "      <td>0.059020</td>\n",
       "    </tr>\n",
       "    <tr>\n",
       "      <th>P</th>\n",
       "      <td>-0.231460</td>\n",
       "      <td>1.000000</td>\n",
       "      <td>0.736232</td>\n",
       "      <td>-0.127541</td>\n",
       "      <td>-0.118734</td>\n",
       "      <td>-0.138019</td>\n",
       "      <td>-0.063839</td>\n",
       "    </tr>\n",
       "    <tr>\n",
       "      <th>K</th>\n",
       "      <td>-0.140512</td>\n",
       "      <td>0.736232</td>\n",
       "      <td>1.000000</td>\n",
       "      <td>-0.160387</td>\n",
       "      <td>0.190859</td>\n",
       "      <td>-0.169503</td>\n",
       "      <td>-0.053461</td>\n",
       "    </tr>\n",
       "    <tr>\n",
       "      <th>temperature</th>\n",
       "      <td>0.026504</td>\n",
       "      <td>-0.127541</td>\n",
       "      <td>-0.160387</td>\n",
       "      <td>1.000000</td>\n",
       "      <td>0.205320</td>\n",
       "      <td>-0.017795</td>\n",
       "      <td>-0.030084</td>\n",
       "    </tr>\n",
       "    <tr>\n",
       "      <th>humidity</th>\n",
       "      <td>0.190688</td>\n",
       "      <td>-0.118734</td>\n",
       "      <td>0.190859</td>\n",
       "      <td>0.205320</td>\n",
       "      <td>1.000000</td>\n",
       "      <td>-0.008483</td>\n",
       "      <td>0.094423</td>\n",
       "    </tr>\n",
       "    <tr>\n",
       "      <th>ph</th>\n",
       "      <td>0.096683</td>\n",
       "      <td>-0.138019</td>\n",
       "      <td>-0.169503</td>\n",
       "      <td>-0.017795</td>\n",
       "      <td>-0.008483</td>\n",
       "      <td>1.000000</td>\n",
       "      <td>-0.109069</td>\n",
       "    </tr>\n",
       "    <tr>\n",
       "      <th>rainfall</th>\n",
       "      <td>0.059020</td>\n",
       "      <td>-0.063839</td>\n",
       "      <td>-0.053461</td>\n",
       "      <td>-0.030084</td>\n",
       "      <td>0.094423</td>\n",
       "      <td>-0.109069</td>\n",
       "      <td>1.000000</td>\n",
       "    </tr>\n",
       "  </tbody>\n",
       "</table>\n",
       "</div>"
      ],
      "text/plain": [
       "                    N         P         K  temperature  humidity        ph  \\\n",
       "N            1.000000 -0.231460 -0.140512     0.026504  0.190688  0.096683   \n",
       "P           -0.231460  1.000000  0.736232    -0.127541 -0.118734 -0.138019   \n",
       "K           -0.140512  0.736232  1.000000    -0.160387  0.190859 -0.169503   \n",
       "temperature  0.026504 -0.127541 -0.160387     1.000000  0.205320 -0.017795   \n",
       "humidity     0.190688 -0.118734  0.190859     0.205320  1.000000 -0.008483   \n",
       "ph           0.096683 -0.138019 -0.169503    -0.017795 -0.008483  1.000000   \n",
       "rainfall     0.059020 -0.063839 -0.053461    -0.030084  0.094423 -0.109069   \n",
       "\n",
       "             rainfall  \n",
       "N            0.059020  \n",
       "P           -0.063839  \n",
       "K           -0.053461  \n",
       "temperature -0.030084  \n",
       "humidity     0.094423  \n",
       "ph          -0.109069  \n",
       "rainfall     1.000000  "
      ]
     },
     "execution_count": 10,
     "metadata": {},
     "output_type": "execute_result"
    }
   ],
   "source": [
    "df.corr()"
   ]
  },
  {
   "cell_type": "code",
   "execution_count": 11,
   "id": "77505c16",
   "metadata": {
    "execution": {
     "iopub.execute_input": "2022-12-03T03:37:58.959829Z",
     "iopub.status.busy": "2022-12-03T03:37:58.958983Z",
     "iopub.status.idle": "2022-12-03T03:37:59.645278Z",
     "shell.execute_reply": "2022-12-03T03:37:59.644285Z"
    },
    "papermill": {
     "duration": 0.715678,
     "end_time": "2022-12-03T03:37:59.647858",
     "exception": false,
     "start_time": "2022-12-03T03:37:58.932180",
     "status": "completed"
    },
    "tags": []
   },
   "outputs": [
    {
     "data": {
      "image/png": "[encoded data removed]",
      "text/plain": [
       "<Figure size 3000x3500 with 2 Axes>"
      ]
     },
     "metadata": {},
     "output_type": "display_data"
    }
   ],
   "source": [
    "plt.figure(figsize=(30,35))\n",
    "sns.heatmap(df.corr(),  cmap='coolwarm', vmax=.3, center=0,\n",
    "            square=True, linewidths=.5,annot=True)\n",
    "plt.show()"
   ]
  },
  {
   "cell_type": "code",
   "execution_count": 12,
   "id": "da51f039",
   "metadata": {
    "execution": {
     "iopub.execute_input": "2022-12-03T03:38:07.765395Z",
     "iopub.status.busy": "2022-12-03T03:38:07.764995Z",
     "iopub.status.idle": "2022-12-03T03:38:08.331913Z",
     "shell.execute_reply": "2022-12-03T03:38:08.330490Z"
    },
    "papermill": {
     "duration": 0.622848,
     "end_time": "2022-12-03T03:38:08.334914",
     "exception": false,
     "start_time": "2022-12-03T03:38:07.712066",
     "status": "completed"
    },
    "tags": []
   },
   "outputs": [],
   "source": [
    "from sklearn import preprocessing\n",
    "from plotly.subplots import make_subplots\n",
    "from sklearn.metrics import classification_report\n",
    "from sklearn.feature_selection import f_classif\n",
    "from sklearn.feature_selection import SelectKBest\n",
    "from sklearn.naive_bayes import GaussianNB  \n",
    "from sklearn.model_selection import train_test_split"
   ]
  },
  {
   "cell_type": "markdown",
   "id": "58039c7b",
   "metadata": {},
   "source": [
    "# Data Pre-Processing by using Label_encoding"
   ]
  },
  {
   "cell_type": "code",
   "execution_count": 13,
   "id": "2b7df2da",
   "metadata": {
    "execution": {
     "iopub.execute_input": "2022-12-03T03:38:32.478234Z",
     "iopub.status.busy": "2022-12-03T03:38:32.476775Z",
     "iopub.status.idle": "2022-12-03T03:38:32.493069Z",
     "shell.execute_reply": "2022-12-03T03:38:32.491486Z"
    },
    "papermill": {
     "duration": 0.074796,
     "end_time": "2022-12-03T03:38:32.495791",
     "exception": false,
     "start_time": "2022-12-03T03:38:32.420995",
     "status": "completed"
    },
    "tags": []
   },
   "outputs": [
    {
     "data": {
      "text/html": [
       "<div>\n",
       "<style scoped>\n",
       "    .dataframe tbody tr th:only-of-type {\n",
       "        vertical-align: middle;\n",
       "    }\n",
       "\n",
       "    .dataframe tbody tr th {\n",
       "        vertical-align: top;\n",
       "    }\n",
       "\n",
       "    .dataframe thead th {\n",
       "        text-align: right;\n",
       "    }\n",
       "</style>\n",
       "<table border=\"1\" class=\"dataframe\">\n",
       "  <thead>\n",
       "    <tr style=\"text-align: right;\">\n",
       "      <th></th>\n",
       "      <th>N</th>\n",
       "      <th>P</th>\n",
       "      <th>K</th>\n",
       "      <th>temperature</th>\n",
       "      <th>humidity</th>\n",
       "      <th>ph</th>\n",
       "      <th>rainfall</th>\n",
       "    </tr>\n",
       "  </thead>\n",
       "  <tbody>\n",
       "    <tr>\n",
       "      <th>0</th>\n",
       "      <td>90</td>\n",
       "      <td>42</td>\n",
       "      <td>43</td>\n",
       "      <td>20.879744</td>\n",
       "      <td>82.002744</td>\n",
       "      <td>6.502985</td>\n",
       "      <td>202.935536</td>\n",
       "    </tr>\n",
       "    <tr>\n",
       "      <th>1</th>\n",
       "      <td>85</td>\n",
       "      <td>58</td>\n",
       "      <td>41</td>\n",
       "      <td>21.770462</td>\n",
       "      <td>80.319644</td>\n",
       "      <td>7.038096</td>\n",
       "      <td>226.655537</td>\n",
       "    </tr>\n",
       "    <tr>\n",
       "      <th>2</th>\n",
       "      <td>60</td>\n",
       "      <td>55</td>\n",
       "      <td>44</td>\n",
       "      <td>23.004459</td>\n",
       "      <td>82.320763</td>\n",
       "      <td>7.840207</td>\n",
       "      <td>263.964248</td>\n",
       "    </tr>\n",
       "    <tr>\n",
       "      <th>3</th>\n",
       "      <td>74</td>\n",
       "      <td>35</td>\n",
       "      <td>40</td>\n",
       "      <td>26.491096</td>\n",
       "      <td>80.158363</td>\n",
       "      <td>6.980401</td>\n",
       "      <td>242.864034</td>\n",
       "    </tr>\n",
       "    <tr>\n",
       "      <th>4</th>\n",
       "      <td>78</td>\n",
       "      <td>42</td>\n",
       "      <td>42</td>\n",
       "      <td>20.130175</td>\n",
       "      <td>81.604873</td>\n",
       "      <td>7.628473</td>\n",
       "      <td>262.717340</td>\n",
       "    </tr>\n",
       "  </tbody>\n",
       "</table>\n",
       "</div>"
      ],
      "text/plain": [
       "    N   P   K  temperature   humidity        ph    rainfall\n",
       "0  90  42  43    20.879744  82.002744  6.502985  202.935536\n",
       "1  85  58  41    21.770462  80.319644  7.038096  226.655537\n",
       "2  60  55  44    23.004459  82.320763  7.840207  263.964248\n",
       "3  74  35  40    26.491096  80.158363  6.980401  242.864034\n",
       "4  78  42  42    20.130175  81.604873  7.628473  262.717340"
      ]
     },
     "execution_count": 13,
     "metadata": {},
     "output_type": "execute_result"
    }
   ],
   "source": [
    "X = df.drop('label' ,axis =1)\n",
    "X.head()"
   ]
  },
  {
   "cell_type": "code",
   "execution_count": 14,
   "id": "2d16812d",
   "metadata": {
    "execution": {
     "iopub.execute_input": "2022-12-03T03:38:32.606128Z",
     "iopub.status.busy": "2022-12-03T03:38:32.605315Z",
     "iopub.status.idle": "2022-12-03T03:38:32.610842Z",
     "shell.execute_reply": "2022-12-03T03:38:32.609494Z"
    },
    "papermill": {
     "duration": 0.063928,
     "end_time": "2022-12-03T03:38:32.613302",
     "exception": false,
     "start_time": "2022-12-03T03:38:32.549374",
     "status": "completed"
    },
    "tags": []
   },
   "outputs": [],
   "source": [
    "from sklearn.preprocessing import LabelEncoder"
   ]
  },
  {
   "cell_type": "code",
   "execution_count": 15,
   "id": "21a361f7",
   "metadata": {
    "execution": {
     "iopub.execute_input": "2022-12-03T03:38:32.722721Z",
     "iopub.status.busy": "2022-12-03T03:38:32.722206Z",
     "iopub.status.idle": "2022-12-03T03:38:32.727779Z",
     "shell.execute_reply": "2022-12-03T03:38:32.726395Z"
    },
    "papermill": {
     "duration": 0.063279,
     "end_time": "2022-12-03T03:38:32.730249",
     "exception": false,
     "start_time": "2022-12-03T03:38:32.666970",
     "status": "completed"
    },
    "tags": []
   },
   "outputs": [],
   "source": [
    "le = LabelEncoder()"
   ]
  },
  {
   "cell_type": "code",
   "execution_count": 16,
   "id": "8d7a6741",
   "metadata": {
    "execution": {
     "iopub.execute_input": "2022-12-03T03:38:32.840074Z",
     "iopub.status.busy": "2022-12-03T03:38:32.839598Z",
     "iopub.status.idle": "2022-12-03T03:38:32.855932Z",
     "shell.execute_reply": "2022-12-03T03:38:32.854666Z"
    },
    "papermill": {
     "duration": 0.074344,
     "end_time": "2022-12-03T03:38:32.858261",
     "exception": false,
     "start_time": "2022-12-03T03:38:32.783917",
     "status": "completed"
    },
    "tags": []
   },
   "outputs": [
    {
     "data": {
      "text/html": [
       "<div>\n",
       "<style scoped>\n",
       "    .dataframe tbody tr th:only-of-type {\n",
       "        vertical-align: middle;\n",
       "    }\n",
       "\n",
       "    .dataframe tbody tr th {\n",
       "        vertical-align: top;\n",
       "    }\n",
       "\n",
       "    .dataframe thead th {\n",
       "        text-align: right;\n",
       "    }\n",
       "</style>\n",
       "<table border=\"1\" class=\"dataframe\">\n",
       "  <thead>\n",
       "    <tr style=\"text-align: right;\">\n",
       "      <th></th>\n",
       "      <th>N</th>\n",
       "      <th>P</th>\n",
       "      <th>K</th>\n",
       "      <th>temperature</th>\n",
       "      <th>humidity</th>\n",
       "      <th>ph</th>\n",
       "      <th>rainfall</th>\n",
       "      <th>label</th>\n",
       "    </tr>\n",
       "  </thead>\n",
       "  <tbody>\n",
       "    <tr>\n",
       "      <th>0</th>\n",
       "      <td>90</td>\n",
       "      <td>42</td>\n",
       "      <td>43</td>\n",
       "      <td>20.879744</td>\n",
       "      <td>82.002744</td>\n",
       "      <td>6.502985</td>\n",
       "      <td>202.935536</td>\n",
       "      <td>20</td>\n",
       "    </tr>\n",
       "    <tr>\n",
       "      <th>1</th>\n",
       "      <td>85</td>\n",
       "      <td>58</td>\n",
       "      <td>41</td>\n",
       "      <td>21.770462</td>\n",
       "      <td>80.319644</td>\n",
       "      <td>7.038096</td>\n",
       "      <td>226.655537</td>\n",
       "      <td>20</td>\n",
       "    </tr>\n",
       "    <tr>\n",
       "      <th>2</th>\n",
       "      <td>60</td>\n",
       "      <td>55</td>\n",
       "      <td>44</td>\n",
       "      <td>23.004459</td>\n",
       "      <td>82.320763</td>\n",
       "      <td>7.840207</td>\n",
       "      <td>263.964248</td>\n",
       "      <td>20</td>\n",
       "    </tr>\n",
       "    <tr>\n",
       "      <th>3</th>\n",
       "      <td>74</td>\n",
       "      <td>35</td>\n",
       "      <td>40</td>\n",
       "      <td>26.491096</td>\n",
       "      <td>80.158363</td>\n",
       "      <td>6.980401</td>\n",
       "      <td>242.864034</td>\n",
       "      <td>20</td>\n",
       "    </tr>\n",
       "    <tr>\n",
       "      <th>4</th>\n",
       "      <td>78</td>\n",
       "      <td>42</td>\n",
       "      <td>42</td>\n",
       "      <td>20.130175</td>\n",
       "      <td>81.604873</td>\n",
       "      <td>7.628473</td>\n",
       "      <td>262.717340</td>\n",
       "      <td>20</td>\n",
       "    </tr>\n",
       "  </tbody>\n",
       "</table>\n",
       "</div>"
      ],
      "text/plain": [
       "    N   P   K  temperature   humidity        ph    rainfall  label\n",
       "0  90  42  43    20.879744  82.002744  6.502985  202.935536     20\n",
       "1  85  58  41    21.770462  80.319644  7.038096  226.655537     20\n",
       "2  60  55  44    23.004459  82.320763  7.840207  263.964248     20\n",
       "3  74  35  40    26.491096  80.158363  6.980401  242.864034     20\n",
       "4  78  42  42    20.130175  81.604873  7.628473  262.717340     20"
      ]
     },
     "execution_count": 16,
     "metadata": {},
     "output_type": "execute_result"
    }
   ],
   "source": [
    "df['label'] = le.fit_transform(df['label'])\n",
    "df.head()"
   ]
  },
  {
   "cell_type": "code",
   "execution_count": 17,
   "id": "351189ae",
   "metadata": {
    "execution": {
     "iopub.execute_input": "2022-12-03T03:38:32.968990Z",
     "iopub.status.busy": "2022-12-03T03:38:32.968207Z",
     "iopub.status.idle": "2022-12-03T03:38:32.977021Z",
     "shell.execute_reply": "2022-12-03T03:38:32.975898Z"
    },
    "papermill": {
     "duration": 0.067175,
     "end_time": "2022-12-03T03:38:32.979315",
     "exception": false,
     "start_time": "2022-12-03T03:38:32.912140",
     "status": "completed"
    },
    "tags": []
   },
   "outputs": [
    {
     "data": {
      "text/plain": [
       "0    20\n",
       "1    20\n",
       "2    20\n",
       "3    20\n",
       "4    20\n",
       "Name: label, dtype: int32"
      ]
     },
     "execution_count": 17,
     "metadata": {},
     "output_type": "execute_result"
    }
   ],
   "source": [
    "y = df['label']\n",
    "y.head()"
   ]
  },
  {
   "cell_type": "code",
   "execution_count": 18,
   "id": "6f95eaf2",
   "metadata": {
    "execution": {
     "iopub.execute_input": "2022-12-03T03:38:33.092097Z",
     "iopub.status.busy": "2022-12-03T03:38:33.091138Z",
     "iopub.status.idle": "2022-12-03T03:38:33.096850Z",
     "shell.execute_reply": "2022-12-03T03:38:33.095936Z"
    },
    "papermill": {
     "duration": 0.065834,
     "end_time": "2022-12-03T03:38:33.099473",
     "exception": false,
     "start_time": "2022-12-03T03:38:33.033639",
     "status": "completed"
    },
    "tags": []
   },
   "outputs": [],
   "source": [
    "model = []\n",
    "accuracy = []"
   ]
  },
  {
   "cell_type": "markdown",
   "id": "e17f7753",
   "metadata": {},
   "source": [
    "# Train test split & Model Selection¶"
   ]
  },
  {
   "cell_type": "code",
   "execution_count": 19,
   "id": "199fe1bf",
   "metadata": {
    "execution": {
     "iopub.execute_input": "2022-12-03T03:38:33.211114Z",
     "iopub.status.busy": "2022-12-03T03:38:33.210161Z",
     "iopub.status.idle": "2022-12-03T03:38:33.218509Z",
     "shell.execute_reply": "2022-12-03T03:38:33.217629Z"
    },
    "papermill": {
     "duration": 0.067021,
     "end_time": "2022-12-03T03:38:33.221174",
     "exception": false,
     "start_time": "2022-12-03T03:38:33.154153",
     "status": "completed"
    },
    "tags": []
   },
   "outputs": [],
   "source": [
    "from sklearn.model_selection import train_test_split\n",
    "X_train,X_test,y_train,y_test = train_test_split(X,y,test_size = 0.2, random_state=42)"
   ]
  },
  {
   "cell_type": "markdown",
   "id": "f426140c",
   "metadata": {},
   "source": [
    "# Decision Tree"
   ]
  },
  {
   "cell_type": "code",
   "execution_count": 20,
   "id": "2dbcde71",
   "metadata": {
    "execution": {
     "iopub.execute_input": "2022-12-03T03:38:33.334851Z",
     "iopub.status.busy": "2022-12-03T03:38:33.333341Z",
     "iopub.status.idle": "2022-12-03T03:38:33.355719Z",
     "shell.execute_reply": "2022-12-03T03:38:33.354335Z"
    },
    "papermill": {
     "duration": 0.081528,
     "end_time": "2022-12-03T03:38:33.358399",
     "exception": false,
     "start_time": "2022-12-03T03:38:33.276871",
     "status": "completed"
    },
    "tags": []
   },
   "outputs": [
    {
     "data": {
      "text/plain": [
       "DecisionTreeClassifier()"
      ]
     },
     "execution_count": 20,
     "metadata": {},
     "output_type": "execute_result"
    }
   ],
   "source": [
    "from sklearn.tree import DecisionTreeClassifier\n",
    "DT = DecisionTreeClassifier()\n",
    "DT.fit(X_train , y_train)"
   ]
  },
  {
   "cell_type": "code",
   "execution_count": 21,
   "id": "2173d0be",
   "metadata": {
    "execution": {
     "iopub.execute_input": "2022-12-03T03:38:33.472028Z",
     "iopub.status.busy": "2022-12-03T03:38:33.471161Z",
     "iopub.status.idle": "2022-12-03T03:38:33.480066Z",
     "shell.execute_reply": "2022-12-03T03:38:33.478671Z"
    },
    "papermill": {
     "duration": 0.069914,
     "end_time": "2022-12-03T03:38:33.483051",
     "exception": false,
     "start_time": "2022-12-03T03:38:33.413137",
     "status": "completed"
    },
    "tags": []
   },
   "outputs": [],
   "source": [
    "predict = DT.predict(X_test)"
   ]
  },
  {
   "cell_type": "code",
   "execution_count": 22,
   "id": "91723da6",
   "metadata": {
    "execution": {
     "iopub.execute_input": "2022-12-03T03:38:33.599003Z",
     "iopub.status.busy": "2022-12-03T03:38:33.597987Z",
     "iopub.status.idle": "2022-12-03T03:38:33.606672Z",
     "shell.execute_reply": "2022-12-03T03:38:33.605766Z"
    },
    "papermill": {
     "duration": 0.070418,
     "end_time": "2022-12-03T03:38:33.609367",
     "exception": false,
     "start_time": "2022-12-03T03:38:33.538949",
     "status": "completed"
    },
    "tags": []
   },
   "outputs": [],
   "source": [
    "DT_accuracy = DT.score(X_test,y_test)"
   ]
  },
  {
   "cell_type": "code",
   "execution_count": 23,
   "id": "658eabdc",
   "metadata": {
    "execution": {
     "iopub.execute_input": "2022-12-03T03:38:33.723581Z",
     "iopub.status.busy": "2022-12-03T03:38:33.722339Z",
     "iopub.status.idle": "2022-12-03T03:38:33.730548Z",
     "shell.execute_reply": "2022-12-03T03:38:33.729369Z"
    },
    "papermill": {
     "duration": 0.068691,
     "end_time": "2022-12-03T03:38:33.732911",
     "exception": false,
     "start_time": "2022-12-03T03:38:33.664220",
     "status": "completed"
    },
    "tags": []
   },
   "outputs": [
    {
     "data": {
      "text/plain": [
       "0.9840909090909091"
      ]
     },
     "execution_count": 23,
     "metadata": {},
     "output_type": "execute_result"
    }
   ],
   "source": [
    "DT_accuracy"
   ]
  },
  {
   "cell_type": "code",
   "execution_count": 24,
   "id": "94265682",
   "metadata": {},
   "outputs": [],
   "source": [
    "accuracy.append(DT_accuracy)\n",
    "model.append('Decision Tree')"
   ]
  },
  {
   "cell_type": "markdown",
   "id": "9ae049cd",
   "metadata": {},
   "source": [
    "# Random Forest"
   ]
  },
  {
   "cell_type": "code",
   "execution_count": 25,
   "id": "724b6663",
   "metadata": {
    "execution": {
     "iopub.execute_input": "2022-12-03T03:38:35.184723Z",
     "iopub.status.busy": "2022-12-03T03:38:35.184194Z",
     "iopub.status.idle": "2022-12-03T03:38:35.560541Z",
     "shell.execute_reply": "2022-12-03T03:38:35.559118Z"
    },
    "papermill": {
     "duration": 0.436861,
     "end_time": "2022-12-03T03:38:35.563765",
     "exception": false,
     "start_time": "2022-12-03T03:38:35.126904",
     "status": "completed"
    },
    "tags": []
   },
   "outputs": [
    {
     "data": {
      "text/plain": [
       "RandomForestClassifier()"
      ]
     },
     "execution_count": 25,
     "metadata": {},
     "output_type": "execute_result"
    }
   ],
   "source": [
    "from sklearn.ensemble import RandomForestClassifier\n",
    "RF = RandomForestClassifier()\n",
    "RF.fit(X_train , y_train)"
   ]
  },
  {
   "cell_type": "code",
   "execution_count": 26,
   "id": "521f4843",
   "metadata": {
    "execution": {
     "iopub.execute_input": "2022-12-03T03:38:35.673511Z",
     "iopub.status.busy": "2022-12-03T03:38:35.672349Z",
     "iopub.status.idle": "2022-12-03T03:38:35.707364Z",
     "shell.execute_reply": "2022-12-03T03:38:35.705752Z"
    },
    "papermill": {
     "duration": 0.093751,
     "end_time": "2022-12-03T03:38:35.710529",
     "exception": false,
     "start_time": "2022-12-03T03:38:35.616778",
     "status": "completed"
    },
    "tags": []
   },
   "outputs": [
    {
     "data": {
      "text/plain": [
       "0.9954545454545455"
      ]
     },
     "execution_count": 26,
     "metadata": {},
     "output_type": "execute_result"
    }
   ],
   "source": [
    "RF_accuracy = RF.score(X_test,y_test)\n",
    "RF_accuracy"
   ]
  },
  {
   "cell_type": "code",
   "execution_count": 27,
   "id": "f9c96a38",
   "metadata": {
    "execution": {
     "iopub.execute_input": "2022-12-03T03:38:35.819991Z",
     "iopub.status.busy": "2022-12-03T03:38:35.819191Z",
     "iopub.status.idle": "2022-12-03T03:38:35.823976Z",
     "shell.execute_reply": "2022-12-03T03:38:35.823047Z"
    },
    "papermill": {
     "duration": 0.063124,
     "end_time": "2022-12-03T03:38:35.826302",
     "exception": false,
     "start_time": "2022-12-03T03:38:35.763178",
     "status": "completed"
    },
    "tags": []
   },
   "outputs": [],
   "source": [
    "accuracy.append(RF_accuracy)\n",
    "model.append('Random Forest')"
   ]
  },
  {
   "cell_type": "markdown",
   "id": "8e3c82f7",
   "metadata": {},
   "source": [
    "## KNN Classifier for Crop prediction. "
   ]
  },
  {
   "cell_type": "code",
   "execution_count": 28,
   "id": "7bb327c4",
   "metadata": {},
   "outputs": [
    {
     "data": {
      "text/plain": [
       "KNeighborsClassifier()"
      ]
     },
     "execution_count": 28,
     "metadata": {},
     "output_type": "execute_result"
    }
   ],
   "source": [
    "from sklearn.neighbors import KNeighborsClassifier\n",
    "knn = KNeighborsClassifier()\n",
    "knn.fit(X_train, y_train)\n"
   ]
  },
  {
   "cell_type": "code",
   "execution_count": 29,
   "id": "c2284333",
   "metadata": {},
   "outputs": [
    {
     "data": {
      "text/plain": [
       "0.9704545454545455"
      ]
     },
     "execution_count": 29,
     "metadata": {},
     "output_type": "execute_result"
    }
   ],
   "source": [
    "knn_accuracy = knn.score(X_test,y_test)\n",
    "knn_accuracy"
   ]
  },
  {
   "cell_type": "code",
   "execution_count": 30,
   "id": "56e38ff9",
   "metadata": {},
   "outputs": [],
   "source": [
    "accuracy.append(knn_accuracy)\n",
    "model.append('KNN Classifier')\n"
   ]
  },
  {
   "cell_type": "code",
   "execution_count": 31,
   "id": "d6187f4c",
   "metadata": {},
   "outputs": [
    {
     "data": {
      "text/plain": [
       "['Decision Tree', 'Random Forest', 'KNN Classifier']"
      ]
     },
     "execution_count": 31,
     "metadata": {},
     "output_type": "execute_result"
    }
   ],
   "source": [
    "model"
   ]
  },
  {
   "cell_type": "code",
   "execution_count": 32,
   "id": "af5b1247",
   "metadata": {},
   "outputs": [
    {
     "data": {
      "text/plain": [
       "[0.9840909090909091, 0.9954545454545455, 0.9704545454545455]"
      ]
     },
     "execution_count": 32,
     "metadata": {},
     "output_type": "execute_result"
    }
   ],
   "source": [
    "accuracy"
   ]
  },
  {
   "cell_type": "code",
   "execution_count": 33,
   "id": "ac356aaa",
   "metadata": {
    "execution": {
     "iopub.execute_input": "2022-12-03T03:38:36.175495Z",
     "iopub.status.busy": "2022-12-03T03:38:36.174646Z",
     "iopub.status.idle": "2022-12-03T03:38:36.333947Z",
     "shell.execute_reply": "2022-12-03T03:38:36.331971Z"
    },
    "papermill": {
     "duration": 0.220711,
     "end_time": "2022-12-03T03:38:36.338860",
     "exception": false,
     "start_time": "2022-12-03T03:38:36.118149",
     "status": "completed"
    },
    "tags": []
   },
   "outputs": [
    {
     "data": {
      "text/plain": [
       "<AxesSubplot:>"
      ]
     },
     "execution_count": 33,
     "metadata": {},
     "output_type": "execute_result"
    },
    {
     "data": {
      "image/png": "[encoded data removed]",
      "text/plain": [
       "<Figure size 640x480 with 1 Axes>"
      ]
     },
     "metadata": {},
     "output_type": "display_data"
    }
   ],
   "source": [
    "sns.barplot(x = model , y = accuracy ,palette ='Spectral')"
   ]
  },
  {
   "cell_type": "markdown",
   "id": "8bac0aec",
   "metadata": {},
   "source": []
  },
  {
   "cell_type": "code",
   "execution_count": null,
   "id": "c8613047",
   "metadata": {},
   "outputs": [],
   "source": []
  }
 ],
 "metadata": {
  "kernelspec": {
   "display_name": "Python 3 (ipykernel)",
   "language": "python",
   "name": "python3"
  },
  "language_info": {
   "codemirror_mode": {
    "name": "ipython",
    "version": 3
   },
   "file_extension": ".py",
   "mimetype": "text/x-python",
   "name": "python",
   "nbconvert_exporter": "python",
   "pygments_lexer": "ipython3",
   "version": "3.9.13"
  },
  "papermill": {
   "default_parameters": {},
   "duration": 79.373985,
   "end_time": "2022-12-03T03:39:02.274093",
   "environment_variables": {},
   "exception": null,
   "input_path": "__notebook__.ipynb",
   "output_path": "__notebook__.ipynb",
   "parameters": {},
   "start_time": "2022-12-03T03:37:42.900108",
   "version": "2.3.4"
  }
 },
 "nbformat": 4,
 "nbformat_minor": 5
}
